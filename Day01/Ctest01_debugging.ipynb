{
 "cells": [
  {
   "attachments": {},
   "cell_type": "markdown",
   "metadata": {},
   "source": [
    "# 코딩 테스트중 실수 네가지\n",
    "## 결함있는 코드\n",
    "#### 디버깅을 잘하자"
   ]
  },
  {
   "cell_type": "code",
   "execution_count": 2,
   "metadata": {},
   "outputs": [
    {
     "name": "stdout",
     "output_type": "stream",
     "text": [
      "1 =  92.0\n",
      "2 =  67.5\n"
     ]
    }
   ],
   "source": [
    "# 배열의 주어진 범위의 합을 2로 나눈 몫을 구하세요\n",
    "import random\n",
    "\n",
    "testcase = int(input())\n",
    "answer = 0\n",
    "A = [0] * (100001)\n",
    "\n",
    "for i in range(0, 100001): # 오류 2 해결 : 10001 범위 수정\n",
    "    A[i] = random.randrange(1, 101)\n",
    "\n",
    "for t in range(1, testcase+1):\n",
    "    answer = 0 # 오류 1 해결 : 초기화\n",
    "    start, end = map(int, input().split())\n",
    "\n",
    "    for i in range(start, end+1):\n",
    "        answer = answer + A[i]\n",
    "\n",
    "    print(f'{t} =  {answer/2}') # 오류 3 해결 : testcase --> t로 변수명 수정\n",
    "    # 오류 4 해결 : 나누기 \"/\"(float) 연산자 --> \"//\"(int)로 수정하기 "
   ]
  },
  {
   "attachments": {},
   "cell_type": "markdown",
   "metadata": {},
   "source": [
    "#### 오류 1\n",
    "- answer 초기화 안 함\n",
    "#### 오류 2\n",
    "- 인덱스 범위 지정 오류\n",
    "- 범위는 변수로 지정해줘서 오류가 날 확률을 줄이자\n",
    "#### 오류 3\n",
    "- 잘못된 변수 사용\n",
    "#### 오류 4\n",
    "- 파이썬 자동 형 변환 "
   ]
  }
 ],
 "metadata": {
  "kernelspec": {
   "display_name": "Python 3",
   "language": "python",
   "name": "python3"
  },
  "language_info": {
   "codemirror_mode": {
    "name": "ipython",
    "version": 3
   },
   "file_extension": ".py",
   "mimetype": "text/x-python",
   "name": "python",
   "nbconvert_exporter": "python",
   "pygments_lexer": "ipython3",
   "version": "3.11.1"
  },
  "orig_nbformat": 4,
  "vscode": {
   "interpreter": {
    "hash": "a3d8f53f1429d27b792a3789224562ddd32c1395c9a9cfbb17b3c19c3b9a493d"
   }
  }
 },
 "nbformat": 4,
 "nbformat_minor": 2
}
