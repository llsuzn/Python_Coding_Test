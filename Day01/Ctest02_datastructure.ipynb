{
 "cells": [
  {
   "attachments": {},
   "cell_type": "markdown",
   "metadata": {},
   "source": [
    "# 자료구조\n",
    "## 배열과 리스트"
   ]
  },
  {
   "attachments": {},
   "cell_type": "markdown",
   "metadata": {},
   "source": [
    "#### 백준 온라인 저지 11720\n",
    "##### 숫자의 합"
   ]
  },
  {
   "cell_type": "code",
   "execution_count": 9,
   "metadata": {},
   "outputs": [
    {
     "name": "stdout",
     "output_type": "stream",
     "text": [
      "15\n"
     ]
    }
   ],
   "source": [
    "num = int(input())\n",
    "num_li = list(map(int,input()))\n",
    "sum = 0\n",
    "for i in range(num):\n",
    "    sum += num_li[i]\n",
    "\n",
    "print(sum)"
   ]
  },
  {
   "attachments": {},
   "cell_type": "markdown",
   "metadata": {},
   "source": [
    "#### 백준 온라인 저지 1546번\n",
    "##### 평균 구하기"
   ]
  },
  {
   "cell_type": "code",
   "execution_count": 19,
   "metadata": {},
   "outputs": [
    {
     "name": "stdout",
     "output_type": "stream",
     "text": [
      "38.75\n"
     ]
    }
   ],
   "source": [
    "test_n = int(input())\n",
    "grade = list(map(int,input().split(' ')))\n",
    "max = 0\n",
    "result = 0\n",
    "\n",
    "for i in grade:\n",
    "    if i > max:\n",
    "        max = i\n",
    "\n",
    "for j in grade:\n",
    "    result += j / max * 100\n",
    "print(result/test_n)"
   ]
  },
  {
   "cell_type": "code",
   "execution_count": 1,
   "metadata": {},
   "outputs": [
    {
     "name": "stdout",
     "output_type": "stream",
     "text": [
      "38.75\n"
     ]
    }
   ],
   "source": [
    "n = input()\n",
    "mylist = list(map(int, input().split()))\n",
    "mymax = max(mylist)\n",
    "sumli = sum(mylist)\n",
    "print(sumli * 100 / mymax / int(n))"
   ]
  },
  {
   "attachments": {},
   "cell_type": "markdown",
   "metadata": {},
   "source": [
    "#### 백준 온라인 저지 11659번\n",
    "##### 구간 합 구하기 4"
   ]
  },
  {
   "cell_type": "code",
   "execution_count": 17,
   "metadata": {},
   "outputs": [
    {
     "name": "stdout",
     "output_type": "stream",
     "text": [
      "12\n",
      "9\n",
      "1\n"
     ]
    }
   ],
   "source": [
    "N,M = map(int, input().split(' '))\n",
    "num = list(map(int, input().split(' ')))\n",
    "result = 0\n",
    "for z in range(M):\n",
    "    i,j = map(int,input().split(' '))\n",
    "    for x in range(i-1,j):\n",
    "        result += num[x]\n",
    "\n",
    "    print(result)\n",
    "    result = 0\n",
    "# 구간 합을 매번 게산한다면 속도가 느려짐\n",
    "# 합 배열은 만든 후 코딩한다면 좀 더 수월해진다"
   ]
  },
  {
   "cell_type": "code",
   "execution_count": 3,
   "metadata": {},
   "outputs": [
    {
     "name": "stdout",
     "output_type": "stream",
     "text": [
      "12\n",
      "9\n",
      "1\n"
     ]
    }
   ],
   "source": [
    "#Ctest04\n",
    "import sys\n",
    "input = sys.stdin.readline\n",
    "N,M = map(int,input().split())\n",
    "numbers = list(map(int,input().split()))\n",
    "sums = [0] # 0번째 인덱스\n",
    "temp = 0\n",
    "\n",
    "for i in numbers:\n",
    "    temp += i\n",
    "    sums.append(temp)\n",
    "\n",
    "for i in range(M):\n",
    "    x,y = map(int,input().split())\n",
    "    print(sums[y]-sums[x-1]) "
   ]
  },
  {
   "attachments": {},
   "cell_type": "markdown",
   "metadata": {},
   "source": [
    "#### 백준 온라인 저지 11660번\n",
    "##### 구간 합 구하기 5"
   ]
  },
  {
   "cell_type": "code",
   "execution_count": null,
   "metadata": {},
   "outputs": [],
   "source": [
    "arr = [0][0]\n"
   ]
  }
 ],
 "metadata": {
  "kernelspec": {
   "display_name": "Python 3",
   "language": "python",
   "name": "python3"
  },
  "language_info": {
   "codemirror_mode": {
    "name": "ipython",
    "version": 3
   },
   "file_extension": ".py",
   "mimetype": "text/x-python",
   "name": "python",
   "nbconvert_exporter": "python",
   "pygments_lexer": "ipython3",
   "version": "3.11.1 (tags/v3.11.1:a7a450f, Dec  6 2022, 19:58:39) [MSC v.1934 64 bit (AMD64)]"
  },
  "orig_nbformat": 4,
  "vscode": {
   "interpreter": {
    "hash": "a3d8f53f1429d27b792a3789224562ddd32c1395c9a9cfbb17b3c19c3b9a493d"
   }
  }
 },
 "nbformat": 4,
 "nbformat_minor": 2
}
