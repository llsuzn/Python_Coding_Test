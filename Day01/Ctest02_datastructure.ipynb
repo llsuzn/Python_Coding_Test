{
 "cells": [
  {
   "attachments": {},
   "cell_type": "markdown",
   "metadata": {},
   "source": [
    "# 자료구조\n",
    "## 배열과 리스트"
   ]
  },
  {
   "attachments": {},
   "cell_type": "markdown",
   "metadata": {},
   "source": [
    "#### 백준 온라인 저지 11720\n",
    "##### 숫자의 합"
   ]
  },
  {
   "cell_type": "code",
   "execution_count": 9,
   "metadata": {},
   "outputs": [
    {
     "name": "stdout",
     "output_type": "stream",
     "text": [
      "15\n"
     ]
    }
   ],
   "source": [
    "num = int(input())\n",
    "num_li = list(map(int,input()))\n",
    "sum = 0\n",
    "for i in range(num):\n",
    "    sum += num_li[i]\n",
    "\n",
    "print(sum)"
   ]
  },
  {
   "attachments": {},
   "cell_type": "markdown",
   "metadata": {},
   "source": [
    "#### 백준 온라인 저지 1546번\n",
    "##### 평균 구하기"
   ]
  },
  {
   "cell_type": "code",
   "execution_count": 19,
   "metadata": {},
   "outputs": [
    {
     "name": "stdout",
     "output_type": "stream",
     "text": [
      "38.75\n"
     ]
    }
   ],
   "source": [
    "test_n = int(input())\n",
    "grade = list(map(int,input().split(' ')))\n",
    "max = 0\n",
    "result = 0\n",
    "\n",
    "for i in grade:\n",
    "    if i > max:\n",
    "        max = i\n",
    "\n",
    "for j in grade:\n",
    "    result += j / max * 100\n",
    "print(result/test_n)"
   ]
  },
  {
   "cell_type": "code",
   "execution_count": 1,
   "metadata": {},
   "outputs": [
    {
     "name": "stdout",
     "output_type": "stream",
     "text": [
      "38.75\n"
     ]
    }
   ],
   "source": [
    "n = input()\n",
    "mylist = list(map(int, input().split()))\n",
    "mymax = max(mylist)\n",
    "sumli = sum(mylist)\n",
    "print(sumli * 100 / mymax / int(n))"
   ]
  },
  {
   "attachments": {},
   "cell_type": "markdown",
   "metadata": {},
   "source": [
    "#### 백준 온라인 저지 11659번\n",
    "##### 구간 합 구하기 4"
   ]
  },
  {
   "cell_type": "code",
   "execution_count": 17,
   "metadata": {},
   "outputs": [
    {
     "name": "stdout",
     "output_type": "stream",
     "text": [
      "12\n",
      "9\n",
      "1\n"
     ]
    }
   ],
   "source": [
    "N,M = map(int, input().split(' '))\n",
    "num = list(map(int, input().split(' ')))\n",
    "result = 0\n",
    "for z in range(M):\n",
    "    i,j = map(int,input().split(' '))\n",
    "    for x in range(i-1,j):\n",
    "        result += num[x]\n",
    "\n",
    "    print(result)\n",
    "    result = 0\n",
    "# 구간 합을 매번 게산한다면 속도가 느려짐\n",
    "# 합 배열은 만든 후 코딩한다면 좀 더 수월해진다"
   ]
  },
  {
   "cell_type": "code",
   "execution_count": 1,
   "metadata": {},
   "outputs": [],
   "source": [
    "#Ctest04\n",
    "import sys\n",
    "input = sys.stdin.readline\n",
    "N,M = map(int,input().split())\n",
    "numbers = list(map(int,input().split()))\n",
    "sums = [0] # 0번째 인덱스\n",
    "temp = 0\n",
    "\n",
    "for i in numbers:\n",
    "    temp += i\n",
    "    sums.append(temp)\n",
    "\n",
    "for i in range(M):\n",
    "    x,y = map(int,input().split())\n",
    "    print(sums[y]-sums[x-1]) "
   ]
  },
  {
   "cell_type": "code",
   "execution_count": 6,
   "metadata": {},
   "outputs": [
    {
     "ename": "TypeError",
     "evalue": "'int' object is not subscriptable",
     "output_type": "error",
     "traceback": [
      "\u001b[1;31m---------------------------------------------------------------------------\u001b[0m",
      "\u001b[1;31mTypeError\u001b[0m                                 Traceback (most recent call last)",
      "Cell \u001b[1;32mIn[6], line 10\u001b[0m\n\u001b[0;32m      8\u001b[0m \u001b[39mfor\u001b[39;00m i \u001b[39min\u001b[39;00m \u001b[39mrange\u001b[39m(\u001b[39m1\u001b[39m,n\u001b[39m+\u001b[39m\u001b[39m1\u001b[39m):\n\u001b[0;32m      9\u001b[0m     \u001b[39mfor\u001b[39;00m j \u001b[39min\u001b[39;00m \u001b[39mrange\u001b[39m(\u001b[39m1\u001b[39m,n\u001b[39m+\u001b[39m\u001b[39m1\u001b[39m):\n\u001b[1;32m---> 10\u001b[0m         list_sum[i][j] \u001b[39m=\u001b[39m \u001b[39mfloat\u001b[39m(list_sum[i][j\u001b[39m-\u001b[39m\u001b[39m1\u001b[39m]) \u001b[39m+\u001b[39m \u001b[39mfloat\u001b[39m(list_sum[i\u001b[39m-\u001b[39m\u001b[39m1\u001b[39m][j]) \u001b[39m-\u001b[39m \u001b[39mfloat\u001b[39m(list_sum[i\u001b[39m-\u001b[39m\u001b[39m1\u001b[39m][j\u001b[39m-\u001b[39m\u001b[39m1\u001b[39m]) \u001b[39m+\u001b[39m \u001b[39mfloat\u001b[39m(list_arr[i][j])\n\u001b[0;32m     12\u001b[0m \u001b[39mfor\u001b[39;00m i \u001b[39min\u001b[39;00m \u001b[39mrange\u001b[39m(m):\n\u001b[0;32m     13\u001b[0m     x1,y1,x2,y2 \u001b[39m=\u001b[39m \u001b[39mmap\u001b[39m(\u001b[39mint\u001b[39m,\u001b[39minput\u001b[39m()\u001b[39m.\u001b[39msplit())\n",
      "\u001b[1;31mTypeError\u001b[0m: 'int' object is not subscriptable"
     ]
    }
   ],
   "source": [
    "n,m = map(int,input().split())\n",
    "list_arr = [[0 for j in range(n)] for i in range(n)]\n",
    "list_sum = [0][0]\n",
    "result = 0\n",
    "for i in range(n):\n",
    "    list_arr = list(map(float,input().split()))\n",
    "\n",
    "for i in range(1,n+1):\n",
    "    for j in range(1,n+1):\n",
    "        list_sum[i][j] = float(list_sum[i][j-1]) + float(list_sum[i-1][j]) - float(list_sum[i-1][j-1]) + float(list_arr[i][j])\n",
    "\n",
    "for i in range(m):\n",
    "    x1,y1,x2,y2 = map(int,input().split())\n",
    "    result = list_sum[x2][y2] - list_sum[x1-1][y2] - list_sum[x2][y1-1] + list_sum[x1-1][y1-1]\n",
    "    print(result)"
   ]
  }
 ],
 "metadata": {
  "kernelspec": {
   "display_name": "Python 3",
   "language": "python",
   "name": "python3"
  },
  "language_info": {
   "codemirror_mode": {
    "name": "ipython",
    "version": 3
   },
   "file_extension": ".py",
   "mimetype": "text/x-python",
   "name": "python",
   "nbconvert_exporter": "python",
   "pygments_lexer": "ipython3",
   "version": "3.11.1 (tags/v3.11.1:a7a450f, Dec  6 2022, 19:58:39) [MSC v.1934 64 bit (AMD64)]"
  },
  "orig_nbformat": 4,
  "vscode": {
   "interpreter": {
    "hash": "a3d8f53f1429d27b792a3789224562ddd32c1395c9a9cfbb17b3c19c3b9a493d"
   }
  }
 },
 "nbformat": 4,
 "nbformat_minor": 2
}
