{
 "cells": [
  {
   "attachments": {},
   "cell_type": "markdown",
   "metadata": {},
   "source": [
    "#### 동적 프로그래밍"
   ]
  },
  {
   "cell_type": "code",
   "execution_count": 10,
   "metadata": {},
   "outputs": [
    {
     "name": "stdout",
     "output_type": "stream",
     "text": [
      "## 메모이제이션 배열 ##\n",
      "1 개 -->   0  0  0  0  0 13 13 \n",
      "2 개 -->   0  0  0  8  8 13 13 \n",
      "3 개 -->   0  0  6  8  8 13 14 \n",
      "4 개 -->   0  0  6  8 12 13 14 \n",
      "\n",
      "배낭에 담을 수 있는 보석의 최대 가격 -->  14 억원\n"
     ]
    }
   ],
   "source": [
    "# 전역변수\n",
    "maxWeight = 7\n",
    "rowCount = 4\n",
    "Weight = [0, 6, 4, 3, 5] # 0 금 수정 루비 진주\n",
    "money = [0, 13, 8, 6, 12]\n",
    "\n",
    "def knapsack():\n",
    "    print('## 메모이제이션 배열 ##')\n",
    "    array = [[0 for _ in range(maxWeight + 1)] for _ in range(rowCount+1)]\n",
    "\n",
    "    for row in range(1,rowCount+1): \n",
    "        print(row, '개 --> ',end= ' ')\n",
    "        for col in range(1,maxWeight+1):\n",
    "            if Weight[row] > col:\n",
    "                array[row][col] = array[row-1][col]\n",
    "            else:\n",
    "                Value1 = money[row] + array[row-1][col-Weight[row]]\n",
    "                Value2 = array[row-1][col]\n",
    "                array[row][col] = max(Value1,Value2)\n",
    "            print('%2d'% array[row][col],end=' ' )\n",
    "        print()\n",
    "    return array[rowCount][maxWeight]                                        \n",
    "\n",
    "maxValue = knapsack()\n",
    "print()\n",
    "print('배낭에 담을 수 있는 보석의 최대 가격 --> ',maxValue,'억원')"
   ]
  },
  {
   "attachments": {},
   "cell_type": "markdown",
   "metadata": {},
   "source": [
    "#### 피보나치 수열"
   ]
  },
  {
   "cell_type": "code",
   "execution_count": 8,
   "metadata": {},
   "outputs": [
    {
     "name": "stdout",
     "output_type": "stream",
     "text": [
      "피보나치 수 :0 > 1 > 1 > 2 > 3 > 5 > 8 > 13 > 21 > 34 > 55 > 89 > 144 > 233 > 377 > 610 > 987 > 1597 > 2584 > 4181 > 6765 > 10946 > 17711 > 28657 > 46368 > 75025 > 121393 > 196418 > 317811 > 514229 > 832040 > 1346269 > 2178309 > 3524578 > 5702887 > 9227465 > 14930352 > 24157817 > 39088169 > 63245986 > 102334155 > 165580141 > "
     ]
    }
   ],
   "source": [
    "# 한 번 계산된 결과를 메모이제이션\n",
    "d = [0] * 100\n",
    "\n",
    "def fibo2(n):\n",
    "    if n == 0: return 0 \n",
    "    if n == 1 or n == 2: return 1\n",
    "\n",
    "    if d[n] != 0: return d[n] # 이미 계산됨\n",
    "    d[n] = fibo2(n-1) + fibo2(n-2)\n",
    "    return d[n]\n",
    "\n",
    "print('피보나치 수 ',end=':')\n",
    "for i in range(42):\n",
    "    print(fibo2(i),end=' > ')    "
   ]
  }
 ],
 "metadata": {
  "kernelspec": {
   "display_name": "Python 3",
   "language": "python",
   "name": "python3"
  },
  "language_info": {
   "codemirror_mode": {
    "name": "ipython",
    "version": 3
   },
   "file_extension": ".py",
   "mimetype": "text/x-python",
   "name": "python",
   "nbconvert_exporter": "python",
   "pygments_lexer": "ipython3",
   "version": "3.11.1"
  },
  "orig_nbformat": 4,
  "vscode": {
   "interpreter": {
    "hash": "a3d8f53f1429d27b792a3789224562ddd32c1395c9a9cfbb17b3c19c3b9a493d"
   }
  }
 },
 "nbformat": 4,
 "nbformat_minor": 2
}
