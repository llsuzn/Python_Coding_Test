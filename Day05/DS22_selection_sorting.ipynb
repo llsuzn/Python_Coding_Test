{
 "cells": [
  {
   "cell_type": "code",
   "execution_count": 1,
   "metadata": {},
   "outputs": [],
   "source": [
    "# import random\n",
    "\n",
    "# databank = []\n",
    "# for i in range(0,10000):\n",
    "#     databank.append(random.randint(1,10000))"
   ]
  },
  {
   "attachments": {},
   "cell_type": "markdown",
   "metadata": {},
   "source": [
    "## 선택정렬\n",
    "\n",
    "최소값 위치 확인 함수"
   ]
  },
  {
   "cell_type": "code",
   "execution_count": 2,
   "metadata": {},
   "outputs": [
    {
     "name": "stdout",
     "output_type": "stream",
     "text": [
      "22\n"
     ]
    }
   ],
   "source": [
    "def findMinIdx(ary):\n",
    "    minIdx = 0 \n",
    "    for i in range(1, len(ary)):\n",
    "       if(ary[minIdx] > ary[i]):\n",
    "            minIdx = i\n",
    "    return minIdx\n",
    "\n",
    "test = [55,88,33,22]\n",
    "minpos = findMinIdx(test)\n",
    "print(test[minpos])        "
   ]
  },
  {
   "attachments": {},
   "cell_type": "markdown",
   "metadata": {},
   "source": [
    "선택정렬 전체"
   ]
  },
  {
   "cell_type": "code",
   "execution_count": 3,
   "metadata": {},
   "outputs": [
    {
     "name": "stdout",
     "output_type": "stream",
     "text": [
      "정렬 전 --> [188, 162, 168, 122, 130, 45, 1, 59]\n",
      "정렬 후 --> [1, 45, 59, 122, 130, 162, 168, 188]\n"
     ]
    }
   ],
   "source": [
    "before = [188,162,168,122,130,45,1,59]\n",
    "after = []\n",
    "\n",
    "print('정렬 전 -->',before)\n",
    "for _ in range(len(before)):\n",
    "    minPos = findMinIdx(before)\n",
    "    after.append(before[minPos])\n",
    "    del(before[minPos])\n",
    "print('정렬 후 -->',after)    "
   ]
  },
  {
   "attachments": {},
   "cell_type": "markdown",
   "metadata": {},
   "source": [
    "#### 개선된 선택정렬\n",
    "\n",
    "배열 두 개 만들 필요 X, 값 교환 Swap 기능 학습"
   ]
  },
  {
   "cell_type": "code",
   "execution_count": 4,
   "metadata": {},
   "outputs": [
    {
     "name": "stdout",
     "output_type": "stream",
     "text": [
      "정렬 전 -->  [188, 162, 168, 120, 50, 150, 177, 105]\n",
      "정렬 후 -->  [50, 105, 120, 150, 162, 168, 177, 188]\n"
     ]
    }
   ],
   "source": [
    "def selectionSort(ary):\n",
    "    n = len(ary)\n",
    "    for i in range(0,n-1): # 첫번째 인덱스 값부터 마지막 인덱스 까지 \n",
    "        minIdx = i\n",
    "        for k in range(i+1,n): # 바깥 for문에서 지정된 인덱스의 값과 지정된 인덱스 보다 뒤에 정렬된 데이터의 값을 비교하여 최솟값 찾기\n",
    "            if (ary[minIdx] > ary[k]):\n",
    "                minIdx = k\n",
    "        # tmp = ary[i]\n",
    "        # ary[i] = ary[minIdx]                \n",
    "        # ary[minIdx]  = tmp\n",
    "        ary[i], ary[minIdx] = ary[minIdx], ary[i] # 파이썬에선 가능함\n",
    "\n",
    "    return ary\n",
    "\n",
    "dataAry = [188,162,168,120,50,150,177,105]\n",
    "\n",
    "print('정렬 전 --> ',dataAry)\n",
    "dataAry = selectionSort(dataAry)\n",
    "print('정렬 후 --> ',dataAry)"
   ]
  },
  {
   "attachments": {},
   "cell_type": "markdown",
   "metadata": {},
   "source": [
    "#### 삽입정렬\n",
    "\n",
    "자신의 삽입위치를 찾는 함수"
   ]
  },
  {
   "cell_type": "code",
   "execution_count": 5,
   "metadata": {},
   "outputs": [],
   "source": [
    "def findinsertIdx(ary,data):\n",
    "    findIdx = -1\n",
    "    for i in range(0,len(ary)):\n",
    "        if ary[i] > data:\n",
    "            findIdx = i\n",
    "            break\n",
    "    if findIdx == -1:\n",
    "        return len(ary)\n",
    "    else:\n",
    "        return findIdx        \n"
   ]
  },
  {
   "cell_type": "code",
   "execution_count": 6,
   "metadata": {},
   "outputs": [
    {
     "name": "stdout",
     "output_type": "stream",
     "text": [
      "50이 들어갈 위치 :  0\n"
     ]
    }
   ],
   "source": [
    "testA = []\n",
    "print('50이 들어갈 위치 : ', findinsertIdx(testA,50))"
   ]
  },
  {
   "cell_type": "code",
   "execution_count": 7,
   "metadata": {},
   "outputs": [
    {
     "name": "stdout",
     "output_type": "stream",
     "text": [
      "50이 들어갈 위치 :  4\n"
     ]
    }
   ],
   "source": [
    "testA = [11,22,33,44,55,66,77]\n",
    "print('50이 들어갈 위치 : ', findinsertIdx(testA,50))"
   ]
  },
  {
   "cell_type": "code",
   "execution_count": 8,
   "metadata": {},
   "outputs": [
    {
     "name": "stdout",
     "output_type": "stream",
     "text": [
      "정렬 전 -->  [188, 162, 168, 122, 130, 45, 1, 59]\n",
      "정렬 후 -->  [1, 45, 59, 122, 130, 162, 168, 188]\n",
      "원본    -->  [188, 162, 168, 122, 130, 45, 1, 59]\n"
     ]
    }
   ],
   "source": [
    "before = [188,162,168,122,130,45,1,59]\n",
    "after = []\n",
    "\n",
    "print('정렬 전 --> ',before)\n",
    "for i in range(len(before)):\n",
    "    data = before[i]\n",
    "    idx = findinsertIdx(after,data)\n",
    "    after.insert(idx,data)\n",
    "print('정렬 후 --> ',after)\n",
    "print('원본    --> ',before)"
   ]
  },
  {
   "attachments": {},
   "cell_type": "markdown",
   "metadata": {},
   "source": [
    "#### 삽입정렬 개선"
   ]
  },
  {
   "cell_type": "code",
   "execution_count": 9,
   "metadata": {},
   "outputs": [
    {
     "name": "stdout",
     "output_type": "stream",
     "text": [
      "정렬 전 -->  [188, 162, 168, 120, 50, 150, 177, 105]\n",
      "정렬 후 -->  [50, 105, 120, 150, 162, 168, 177, 188]\n"
     ]
    }
   ],
   "source": [
    "def insertionSort(ary):\n",
    "    n = len(ary)\n",
    "    for end in range(1,n): # 앞의 값 하나 빼고 끝까지 반복\n",
    "        for cur in range(end, 0, -1): # 반대로 돌면서 반복\n",
    "            if ary[cur-1] > ary[cur]:\n",
    "                ary[cur-1],ary[cur] = ary[cur],ary[cur-1] # 파이선의 특징,,,,Swap\n",
    "    return ary\n",
    "\n",
    "dataAry = [188,162,168,120,50,150,177,105]\n",
    "\n",
    "print('정렬 전 --> ',dataAry)\n",
    "dataAry = insertionSort(dataAry)\n",
    "print('정렬 후 --> ',dataAry)\n",
    "\n",
    "                "
   ]
  },
  {
   "attachments": {},
   "cell_type": "markdown",
   "metadata": {},
   "source": [
    "#### 버블 정렬"
   ]
  },
  {
   "cell_type": "code",
   "execution_count": 10,
   "metadata": {},
   "outputs": [
    {
     "name": "stdout",
     "output_type": "stream",
     "text": [
      " 정렬 전 -->  [188, 162, 168, 120, 50, 150, 177, 105]\n",
      " 정렬 후 -->  [50, 105, 120, 150, 162, 168, 177, 188]\n"
     ]
    }
   ],
   "source": [
    "def BubbleSort(ary):\n",
    "    n = len(ary)\n",
    "    num = 1\n",
    "    for end in range(n-1,0,-1):\n",
    "        # print(f'사이클 {num} --> {ary}')\n",
    "        # num += 1\n",
    "        for cur in range(0,end):\n",
    "            if ary[cur] > ary[cur+1]:\n",
    "                ary[cur],ary[cur+1] = ary[cur+1],ary[cur]\n",
    "\n",
    "    return ary        \n",
    "\n",
    "dataAry = [188,162,168,120,50,150,177,105]\n",
    "\n",
    "print(' 정렬 전 --> ',dataAry)\n",
    "dataAry = BubbleSort(dataAry)\n",
    "print(' 정렬 후 --> ',dataAry)            "
   ]
  },
  {
   "attachments": {},
   "cell_type": "markdown",
   "metadata": {},
   "source": [
    "#### 퀵 정렬"
   ]
  },
  {
   "cell_type": "code",
   "execution_count": 11,
   "metadata": {},
   "outputs": [
    {
     "name": "stdout",
     "output_type": "stream",
     "text": [
      "정렬 전 -->  [120, 120, 188, 150, 168, 50, 50, 162, 120, 50]\n",
      "정렬 후 -->  [50, 50, 50, 120, 120, 120, 150, 162, 168, 188]\n"
     ]
    }
   ],
   "source": [
    "# 중복된 값을 허용하는 퀵정렬\n",
    "def quickSort(ary):\n",
    "    n = len(ary)\n",
    "    if n <= 1:\n",
    "        return ary\n",
    "    \n",
    "    pivot = ary[n // 2] # 퀵 정렬의 기준값을 중간값으로 선택\n",
    "    leftAry, midAry, rightAry = [],[],[]\n",
    "\n",
    "    for num in ary:\n",
    "        if num < pivot:\n",
    "            leftAry.append(num)\n",
    "        elif num > pivot:\n",
    "            rightAry.append(num)\n",
    "        else:\n",
    "            midAry.append(num)\n",
    "    return quickSort(leftAry) + midAry + quickSort(rightAry)\n",
    "\n",
    "dataAry = [120,120,188,150,168,50,50,162,120,50]\n",
    "\n",
    "print('정렬 전 --> ', dataAry)\n",
    "dataAry = quickSort(dataAry)\n",
    "print('정렬 후 --> ', dataAry)    "
   ]
  }
 ],
 "metadata": {
  "kernelspec": {
   "display_name": "Python 3",
   "language": "python",
   "name": "python3"
  },
  "language_info": {
   "codemirror_mode": {
    "name": "ipython",
    "version": 3
   },
   "file_extension": ".py",
   "mimetype": "text/x-python",
   "name": "python",
   "nbconvert_exporter": "python",
   "pygments_lexer": "ipython3",
   "version": "3.11.1"
  },
  "orig_nbformat": 4,
  "vscode": {
   "interpreter": {
    "hash": "a3d8f53f1429d27b792a3789224562ddd32c1395c9a9cfbb17b3c19c3b9a493d"
   }
  }
 },
 "nbformat": 4,
 "nbformat_minor": 2
}
