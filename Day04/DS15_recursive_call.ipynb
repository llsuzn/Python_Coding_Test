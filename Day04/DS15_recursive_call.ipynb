{
 "cells": [
  {
   "attachments": {},
   "cell_type": "markdown",
   "metadata": {},
   "source": [
    "재귀 호출(Reculsive call)"
   ]
  },
  {
   "cell_type": "code",
   "execution_count": 1,
   "metadata": {},
   "outputs": [
    {
     "name": "stdout",
     "output_type": "stream",
     "text": [
      "BOX OPEN! 10\n",
      "BOX OPEN! 9\n",
      "BOX OPEN! 8\n",
      "BOX OPEN! 7\n",
      "BOX OPEN! 6\n",
      "BOX OPEN! 5\n",
      "BOX OPEN! 4\n",
      "BOX OPEN! 3\n",
      "BOX OPEN! 2\n",
      "BOX OPEN! 1\n",
      "반지를 넣고 반환\n",
      "종이 상자 닫기\n"
     ]
    }
   ],
   "source": [
    "count = 10\n",
    "\n",
    "def openBox():\n",
    "    global count\n",
    "    print('BOX OPEN!',count)\n",
    "    count -= 1\n",
    "    if count == 0:\n",
    "        print('반지를 넣고 반환')\n",
    "        print('종이 상자 닫기')\n",
    "        return\n",
    "    openBox()    \n",
    "\n",
    "openBox()\n"
   ]
  },
  {
   "attachments": {},
   "cell_type": "markdown",
   "metadata": {},
   "source": [
    "재귀호출 하지 않고 반복문으로 계산 "
   ]
  },
  {
   "cell_type": "code",
   "execution_count": 2,
   "metadata": {},
   "outputs": [
    {
     "name": "stdout",
     "output_type": "stream",
     "text": [
      "10+9+8+···+1 = 55\n"
     ]
    }
   ],
   "source": [
    "sumValue = 0\n",
    "for n in range(10,0,-1):\n",
    "    sumValue += n\n",
    "print(\"10+9+8+···+1 =\",sumValue)    "
   ]
  },
  {
   "attachments": {},
   "cell_type": "markdown",
   "metadata": {},
   "source": [
    "재귀호출 사용한 덧셈"
   ]
  },
  {
   "cell_type": "code",
   "execution_count": 3,
   "metadata": {},
   "outputs": [
    {
     "name": "stdout",
     "output_type": "stream",
     "text": [
      "55\n"
     ]
    }
   ],
   "source": [
    "def addNumber(num):\n",
    "    if num <= 1 :\n",
    "        return 1\n",
    "    else:\n",
    "        return num + addNumber(num - 1)\n",
    "\n",
    "print(addNumber(10))        "
   ]
  },
  {
   "attachments": {},
   "cell_type": "markdown",
   "metadata": {},
   "source": [
    "팩토리얼 반복문"
   ]
  },
  {
   "cell_type": "code",
   "execution_count": 4,
   "metadata": {},
   "outputs": [
    {
     "name": "stdout",
     "output_type": "stream",
     "text": [
      "10*9*8*···*1 =  3628800\n"
     ]
    }
   ],
   "source": [
    "factorial = 1\n",
    "for n in range(10,0,-1):\n",
    "    factorial *= n\n",
    "\n",
    "print('10*9*8*···*1 = ',factorial)    "
   ]
  },
  {
   "attachments": {},
   "cell_type": "markdown",
   "metadata": {},
   "source": [
    "팩토리얼 재귀호출"
   ]
  },
  {
   "cell_type": "code",
   "execution_count": 5,
   "metadata": {},
   "outputs": [
    {
     "name": "stdout",
     "output_type": "stream",
     "text": [
      "\n",
      "10! =  3628800\n"
     ]
    }
   ],
   "source": [
    "def factorial(num):\n",
    "    if num <= 1:\n",
    "        return n\n",
    "    return num * factorial(num - 1)\n",
    "\n",
    "print('\\n10! = ', factorial(10))"
   ]
  },
  {
   "attachments": {},
   "cell_type": "markdown",
   "metadata": {},
   "source": [
    "우주선 발사"
   ]
  },
  {
   "cell_type": "code",
   "execution_count": 6,
   "metadata": {},
   "outputs": [
    {
     "name": "stdout",
     "output_type": "stream",
     "text": [
      "5\n",
      "4\n",
      "3\n",
      "2\n",
      "1\n",
      "우주선 발사\n"
     ]
    }
   ],
   "source": [
    "import time\n",
    "def countdown(n):\n",
    "    if n == 0:\n",
    "        print('우주선 발사')\n",
    "    else:\n",
    "        print(n)\n",
    "        time.sleep(1)\n",
    "        countdown(n-1)\n",
    "\n",
    "countdown(5)    "
   ]
  },
  {
   "cell_type": "code",
   "execution_count": 7,
   "metadata": {},
   "outputs": [
    {
     "name": "stdout",
     "output_type": "stream",
     "text": [
      "*\n",
      "**\n",
      "***\n",
      "****\n",
      "*****\n"
     ]
    }
   ],
   "source": [
    "def printstar(n):\n",
    "    if n > 0:\n",
    "        printstar(n-1)\n",
    "        print('*' * n)\n",
    "\n",
    "printstar(5)        "
   ]
  },
  {
   "attachments": {},
   "cell_type": "markdown",
   "metadata": {},
   "source": [
    "구구단 재귀함수"
   ]
  },
  {
   "cell_type": "code",
   "execution_count": 10,
   "metadata": {},
   "outputs": [
    {
     "name": "stdout",
     "output_type": "stream",
     "text": [
      "\n",
      "## 2단 ##\n",
      "2*1= 2 2*2= 4 2*3= 6 2*4= 8 2*5=10 2*6=12 2*7=14 2*8=16 2*9=18 \n",
      "## 3단 ##\n",
      "3*1= 3 3*2= 6 3*3= 9 3*4=12 3*5=15 3*6=18 3*7=21 3*8=24 3*9=27 \n",
      "## 4단 ##\n",
      "4*1= 4 4*2= 8 4*3=12 4*4=16 4*5=20 4*6=24 4*7=28 4*8=32 4*9=36 \n",
      "## 5단 ##\n",
      "5*1= 5 5*2=10 5*3=15 5*4=20 5*5=25 5*6=30 5*7=35 5*8=40 5*9=45 \n",
      "## 6단 ##\n",
      "6*1= 6 6*2=12 6*3=18 6*4=24 6*5=30 6*6=36 6*7=42 6*8=48 6*9=54 \n",
      "## 7단 ##\n",
      "7*1= 7 7*2=14 7*3=21 7*4=28 7*5=35 7*6=42 7*7=49 7*8=56 7*9=63 \n",
      "## 8단 ##\n",
      "8*1= 8 8*2=16 8*3=24 8*4=32 8*5=40 8*6=48 8*7=56 8*8=64 8*9=72 \n",
      "## 9단 ##\n",
      "9*1= 9 9*2=18 9*3=27 9*4=36 9*5=45 9*6=54 9*7=63 9*8=72 9*9=81 "
     ]
    }
   ],
   "source": [
    "def gugudan(dan,num):\n",
    "    print(f'{dan}*{num}={dan*num:2d}',end=' ')\n",
    "    if num<9:\n",
    "        gugudan(dan,num+1)\n",
    "\n",
    "for dan in range(2,10):\n",
    "    print(f'\\n## {dan}단 ##')        \n",
    "    gugudan(dan,1)"
   ]
  },
  {
   "attachments": {},
   "cell_type": "markdown",
   "metadata": {},
   "source": [
    "N 제곱 만들기"
   ]
  },
  {
   "cell_type": "code",
   "execution_count": 11,
   "metadata": {},
   "outputs": [
    {
     "name": "stdout",
     "output_type": "stream",
     "text": [
      "2^4\n",
      "  2 x 2 ^ (4 - 1)\n",
      "   2 x 2 ^ (3 - 1)\n",
      "    2 x 2 ^ (2 - 1)\n",
      "     2 x 2 ^ (1 - 1)\n",
      "--> 16\n"
     ]
    }
   ],
   "source": [
    "tab = ''\n",
    "def pow(x,n):\n",
    "    global tab\n",
    "    tab += ' '\n",
    "    if n == 0:\n",
    "        return 1\n",
    "    print(f'{tab} {x} x {x} ^ ({n} - {1})')\n",
    "    return x * pow(x,n-1)\n",
    "\n",
    "print('2^4')\n",
    "print('-->',pow(2,4))"
   ]
  },
  {
   "attachments": {
    "image.png": {
     "image/png": "[encoded data removed]"
    }
   },
   "cell_type": "markdown",
   "metadata": {},
   "source": [
    "피보나치 수열\n",
    "\n",
    "![image.png](attachment:image.png)"
   ]
  },
  {
   "cell_type": "code",
   "execution_count": 17,
   "metadata": {},
   "outputs": [
    {
     "name": "stdout",
     "output_type": "stream",
     "text": [
      "피보나치 수 :0-->1-->1-->2-->3-->5-->8-->13-->21-->34-->55-->89-->144-->233-->377-->610-->987-->1597-->2584-->4181-->6765-->10946-->17711-->28657-->46368-->75025-->121393-->196418-->317811-->514229-->832040-->1346269-->2178309-->3524578-->5702887-->9227465-->14930352-->24157817-->39088169-->63245986-->102334155-->165580141-->"
     ]
    }
   ],
   "source": [
    "def fibo(n):\n",
    "    if n == 0:\n",
    "        return 0\n",
    "    elif n == 1 or n == 2:\n",
    "        return 1\n",
    "    else:\n",
    "        return fibo(n-1) + fibo(n-2)\n",
    "    \n",
    "print('피보나치 수 ',end=':')\n",
    "for i in range(42):\n",
    "    print(fibo(i),end='-->')    "
   ]
  },
  {
   "attachments": {},
   "cell_type": "markdown",
   "metadata": {},
   "source": [
    "회문 여부 판단하기 (앞뒤로 읽어도 글자가 똑같은 단어나 문장)"
   ]
  },
  {
   "cell_type": "code",
   "execution_count": 22,
   "metadata": {},
   "outputs": [
    {
     "name": "stdout",
     "output_type": "stream",
     "text": [
      "A--> 0\n",
      "reaver--> X\n",
      "kayak--> 0\n",
      "Borrow or rob--> 0\n",
      "주유소의 소유주--> 0\n",
      "야 너 이번 주 주번이 너야--> 0\n",
      "살금 살금--> X\n"
     ]
    }
   ],
   "source": [
    "def palindorme(pStr):\n",
    "    if len(pStr) <= 1:\n",
    "        return True\n",
    "    \n",
    "    if pStr[0] != pStr[-1]:\n",
    "        return False\n",
    "    \n",
    "    return palindorme(pStr[1:len(pStr)-1])\n",
    "\n",
    "strAry = ['A','reaver','kayak','Borrow or rob','주유소의 소유주','야 너 이번 주 주번이 너야','살금 살금']\n",
    "\n",
    "for testStr in strAry:\n",
    "    print(testStr,end='--> ')\n",
    "    testStr = testStr.lower().replace(' ','')\n",
    "    if palindorme(testStr):\n",
    "        print('0')\n",
    "    else:\n",
    "        print('X')"
   ]
  }
 ],
 "metadata": {
  "kernelspec": {
   "display_name": "Python 3",
   "language": "python",
   "name": "python3"
  },
  "language_info": {
   "codemirror_mode": {
    "name": "ipython",
    "version": 3
   },
   "file_extension": ".py",
   "mimetype": "text/x-python",
   "name": "python",
   "nbconvert_exporter": "python",
   "pygments_lexer": "ipython3",
   "version": "3.11.1 (tags/v3.11.1:a7a450f, Dec  6 2022, 19:58:39) [MSC v.1934 64 bit (AMD64)]"
  },
  "orig_nbformat": 4,
  "vscode": {
   "interpreter": {
    "hash": "a3d8f53f1429d27b792a3789224562ddd32c1395c9a9cfbb17b3c19c3b9a493d"
   }
  }
 },
 "nbformat": 4,
 "nbformat_minor": 2
}
