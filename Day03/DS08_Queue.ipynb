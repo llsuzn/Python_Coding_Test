{
 "cells": [
  {
   "attachments": {},
   "cell_type": "markdown",
   "metadata": {},
   "source": [
    "## Queue 학습"
   ]
  },
  {
   "cell_type": "code",
   "execution_count": 11,
   "metadata": {},
   "outputs": [],
   "source": [
    "Queue = [None for _ in range(5)]\n",
    "\n",
    "front, rear = -1, -1"
   ]
  },
  {
   "attachments": {},
   "cell_type": "markdown",
   "metadata": {},
   "source": [
    "데이터 삽입(enQueue)"
   ]
  },
  {
   "cell_type": "code",
   "execution_count": 12,
   "metadata": {},
   "outputs": [],
   "source": [
    "rear += 1\n",
    "Queue[rear] = '화사'\n",
    "rear += 1\n",
    "Queue[rear] = '솔라'\n",
    "rear += 1\n",
    "Queue[rear] = '문별'"
   ]
  },
  {
   "cell_type": "code",
   "execution_count": 13,
   "metadata": {},
   "outputs": [
    {
     "name": "stdout",
     "output_type": "stream",
     "text": [
      "===========큐상태===========\n",
      "[출구] <-- 화사 <-- 솔라 <-- 문별 <-- None <-- None <-- [입구]\n"
     ]
    }
   ],
   "source": [
    "print('===========큐상태===========')\n",
    "print('[출구]',end=' <-- ')\n",
    "for i in range(0,len(Queue)):\n",
    "    print(Queue[i],end=' <-- ')\n",
    "print('[입구]')"
   ]
  },
  {
   "cell_type": "markdown",
   "metadata": {},
   "source": [
    "데이터 추출(deQueue)"
   ]
  },
  {
   "cell_type": "code",
   "execution_count": 14,
   "metadata": {},
   "outputs": [
    {
     "name": "stdout",
     "output_type": "stream",
     "text": [
      "deQueue -> 화사\n"
     ]
    }
   ],
   "source": [
    "front += 1\n",
    "data = Queue[front]\n",
    "Queue[front] = None\n",
    "print(f'deQueue -> {data}')"
   ]
  },
  {
   "cell_type": "code",
   "execution_count": 15,
   "metadata": {},
   "outputs": [
    {
     "name": "stdout",
     "output_type": "stream",
     "text": [
      "===========큐상태===========\n",
      "[출구] <-- None <-- 솔라 <-- 문별 <-- None <-- None <-- [입구]\n"
     ]
    }
   ],
   "source": [
    "print('===========큐상태===========')\n",
    "print('[출구]',end=' <-- ')\n",
    "for i in range(0,len(Queue)):\n",
    "    print(Queue[i],end=' <-- ')\n",
    "print('[입구]')"
   ]
  },
  {
   "cell_type": "code",
   "execution_count": 16,
   "metadata": {},
   "outputs": [
    {
     "name": "stdout",
     "output_type": "stream",
     "text": [
      "deQueue -> 솔라\n",
      "deQueue -> 문별\n"
     ]
    }
   ],
   "source": [
    "front += 1\n",
    "data = Queue[front]\n",
    "Queue[front] = None\n",
    "print(f'deQueue -> {data}')\n",
    "\n",
    "front += 1\n",
    "data = Queue[front]\n",
    "Queue[front] = None\n",
    "print(f'deQueue -> {data}')"
   ]
  },
  {
   "cell_type": "code",
   "execution_count": 17,
   "metadata": {},
   "outputs": [
    {
     "name": "stdout",
     "output_type": "stream",
     "text": [
      "===========큐상태===========\n",
      "[출구] <-- None <-- None <-- None <-- None <-- None <-- [입구]\n"
     ]
    }
   ],
   "source": [
    "print('===========큐상태===========')\n",
    "print('[출구]',end=' <-- ')\n",
    "for i in range(0,len(Queue)):\n",
    "    print(Queue[i],end=' <-- ')\n",
    "print('[입구]')"
   ]
  }
 ],
 "metadata": {
  "kernelspec": {
   "display_name": "Python 3",
   "language": "python",
   "name": "python3"
  },
  "language_info": {
   "codemirror_mode": {
    "name": "ipython",
    "version": 3
   },
   "file_extension": ".py",
   "mimetype": "text/x-python",
   "name": "python",
   "nbconvert_exporter": "python",
   "pygments_lexer": "ipython3",
   "version": "3.11.1"
  },
  "orig_nbformat": 4,
  "vscode": {
   "interpreter": {
    "hash": "a3d8f53f1429d27b792a3789224562ddd32c1395c9a9cfbb17b3c19c3b9a493d"
   }
  }
 },
 "nbformat": 4,
 "nbformat_minor": 2
}
