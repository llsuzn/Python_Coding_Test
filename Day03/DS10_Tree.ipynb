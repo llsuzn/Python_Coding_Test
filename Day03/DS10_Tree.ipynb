{
 "cells": [
  {
   "attachments": {},
   "cell_type": "markdown",
   "metadata": {},
   "source": [
    "## 트리구조"
   ]
  },
  {
   "cell_type": "code",
   "execution_count": 48,
   "metadata": {},
   "outputs": [],
   "source": [
    "class TreeNode:\n",
    "    def __init__(self) -> None:\n",
    "        self.left = None\n",
    "        self.data = None\n",
    "        self.right = None\n",
    " \n",
    " "
   ]
  },
  {
   "cell_type": "code",
   "execution_count": 49,
   "metadata": {},
   "outputs": [
    {
     "name": "stdout",
     "output_type": "stream",
     "text": [
      "                  수진\n",
      "                  ／＼\n",
      "           규수          혁\n",
      "           ／＼         ／＼\n",
      "      지영    소윤  윤희 "
     ]
    }
   ],
   "source": [
    "node1 = TreeNode()\n",
    "node1.data = '수진'\n",
    "\n",
    "node2 = TreeNode()\n",
    "node2.data = '규수'\n",
    "node1.left = node2\n",
    "\n",
    "node3 = TreeNode()\n",
    "node3.data = '혁'\n",
    "node1.right = node3\n",
    "\n",
    "node4 = TreeNode()\n",
    "node4.data = '지영'\n",
    "node2.left = node4\n",
    "\n",
    "node5 = TreeNode()\n",
    "node5.data = '소윤'\n",
    "node2.right = node5\n",
    "\n",
    "node6 = TreeNode()\n",
    "node6.data = '윤희'\n",
    "node3.left = node6\n",
    "\n",
    "print('%20s' %  node1.data )\n",
    "print('%20s'%'／＼')\n",
    "print('%13s'%node1.left.data,'%10s'%node1.right.data)\n",
    "print('%13s'%'／＼','%10s'%'／＼')\n",
    "print('%8s'%node1.left.left.data,'%5s'%node1.left.right.data,'%3s'%node1.right.left.data,end=' ')\n"
   ]
  },
  {
   "attachments": {},
   "cell_type": "markdown",
   "metadata": {},
   "source": [
    "#### 이진 트리 순회 구현"
   ]
  },
  {
   "cell_type": "code",
   "execution_count": 51,
   "metadata": {},
   "outputs": [
    {
     "name": "stdout",
     "output_type": "stream",
     "text": [
      "전위 순회:  수진->규수->지영->소윤->혁->윤희->끝\n",
      "중위 순회:  지영->규수->소윤->수진->윤희->혁->끝\n",
      "후위 순회:  지영->소윤->규수->윤희->혁->수진->끝\n"
     ]
    }
   ],
   "source": [
    "def preorder(node): # 전위 순회\n",
    "    if node == None: return\n",
    "    print(node.data,end='->')\n",
    "    preorder(node.left)\n",
    "    preorder(node.right)\n",
    "\n",
    "def inorder(node): # 중위 순회\n",
    "    if node == None: return\n",
    "    inorder(node.left)\n",
    "    print(node.data,end='->')\n",
    "    inorder(node.right)\n",
    "\n",
    "def postorder(node): # 후위 순회\n",
    "    if node == None: return\n",
    "    postorder(node.left)\n",
    "    postorder(node.right)    \n",
    "    print(node.data,end='->')\n",
    "\n",
    "print('전위 순회: ',end=' ')\n",
    "preorder(node1)\n",
    "print('끝')\n",
    "\n",
    "print('중위 순회: ',end=' ')\n",
    "inorder(node1)\n",
    "print('끝')\n",
    "\n",
    "print('후위 순회: ',end=' ')\n",
    "postorder(node1)\n",
    "print('끝')    "
   ]
  }
 ],
 "metadata": {
  "kernelspec": {
   "display_name": "Python 3",
   "language": "python",
   "name": "python3"
  },
  "language_info": {
   "codemirror_mode": {
    "name": "ipython",
    "version": 3
   },
   "file_extension": ".py",
   "mimetype": "text/x-python",
   "name": "python",
   "nbconvert_exporter": "python",
   "pygments_lexer": "ipython3",
   "version": "3.11.1"
  },
  "orig_nbformat": 4,
  "vscode": {
   "interpreter": {
    "hash": "a3d8f53f1429d27b792a3789224562ddd32c1395c9a9cfbb17b3c19c3b9a493d"
   }
  }
 },
 "nbformat": 4,
 "nbformat_minor": 2
}
